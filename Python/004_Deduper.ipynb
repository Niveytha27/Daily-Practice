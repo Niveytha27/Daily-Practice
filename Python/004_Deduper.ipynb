{
  "nbformat": 4,
  "nbformat_minor": 0,
  "metadata": {
    "colab": {
      "name": "004_Deduper.ipynb",
      "provenance": [],
      "collapsed_sections": []
    },
    "kernelspec": {
      "name": "python3",
      "display_name": "Python 3"
    },
    "language_info": {
      "name": "python"
    }
  },
  "cells": [
    {
      "cell_type": "markdown",
      "metadata": {
        "id": "B1JHK3_aw7FY"
      },
      "source": [
        "###Problem Statement"
      ]
    },
    {
      "cell_type": "markdown",
      "metadata": {
        "id": "ZuF-_t_MvUjW"
      },
      "source": [
        "1. Part A: Dedupe the string as a whole. Remove all repeated characters, irrespective of the position.\n",
        "2. Part B: Dedupe only those characters that are repeated in succession."
      ]
    },
    {
      "cell_type": "markdown",
      "metadata": {
        "id": "28lcYbUOw99j"
      },
      "source": [
        "###Code"
      ]
    },
    {
      "cell_type": "code",
      "metadata": {
        "id": "wfzmnlAGvNMm"
      },
      "source": [
        "# Imports\n",
        "import random\n",
        "\n",
        "\n",
        "# Core Logic\n",
        "def deduper_a(raw_string):\n",
        "    deduped_string = raw_string[0]\n",
        "    for character in raw_string:\n",
        "        if character not in deduped_string:\n",
        "            deduped_string += character\n",
        "    return deduped_string\n",
        "\n",
        "\n",
        "def deduper_b(raw_string):\n",
        "    deduped_string = raw_string[0]\n",
        "    for character in raw_string:\n",
        "        if character != deduped_string[-1]:\n",
        "            deduped_string += character\n",
        "    return deduped_string"
      ],
      "execution_count": 1,
      "outputs": []
    },
    {
      "cell_type": "code",
      "metadata": {
        "colab": {
          "base_uri": "https://localhost:8080/"
        },
        "id": "-eU-qhXV24hj",
        "outputId": "a08ec078-3e9e-44b3-be71-aa2134a8fb08"
      },
      "source": [
        "# Driver - Part A\n",
        "base_string = 'abcdefghijklmnopqrstuvwxyz'\n",
        "total_trials = 25\n",
        "pass_count = 0\n",
        "\n",
        "for i in range(total_trials):\n",
        "    raw_string = ''\n",
        "    for char in base_string:\n",
        "        num = random.randint(1, 5)\n",
        "        raw_string += char * num\n",
        "    output = deduper_a(raw_string)\n",
        "\n",
        "# Validation\n",
        "    if output != base_string:\n",
        "        print(f'Trial {i+1:2d} failed. Deduped string was : {output}')\n",
        "    else:\n",
        "        pass_count += 1\n",
        "\n",
        "print(f'Passed {pass_count} trials out of {total_trials}.')"
      ],
      "execution_count": 2,
      "outputs": [
        {
          "output_type": "stream",
          "text": [
            "Passed 25 trials out of 25.\n"
          ],
          "name": "stdout"
        }
      ]
    },
    {
      "cell_type": "code",
      "metadata": {
        "colab": {
          "base_uri": "https://localhost:8080/"
        },
        "id": "eIdpdwdS25UT",
        "outputId": "baf0f73f-5f91-4b65-c562-41131023ef6c"
      },
      "source": [
        "# Driver - Part B\n",
        "base_string = 'abcdefabcdef'\n",
        "total_trials = 25\n",
        "pass_count = 0\n",
        "\n",
        "for i in range(total_trials):\n",
        "    raw_string = ''\n",
        "    for char in base_string:\n",
        "        num = random.randint(1, 5)\n",
        "        raw_string += char * num\n",
        "    output = deduper_b(raw_string)\n",
        "\n",
        "# Validation\n",
        "    if output != base_string:\n",
        "        print(f'Trial {i+1:2d} failed. Deduped string was : {output}')\n",
        "    else:\n",
        "        pass_count += 1\n",
        "\n",
        "print(f'Passed {pass_count} trials out of {total_trials}.')"
      ],
      "execution_count": 3,
      "outputs": [
        {
          "output_type": "stream",
          "text": [
            "Passed 25 trials out of 25.\n"
          ],
          "name": "stdout"
        }
      ]
    }
  ]
}