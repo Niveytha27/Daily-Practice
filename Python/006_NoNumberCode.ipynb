{
  "nbformat": 4,
  "nbformat_minor": 0,
  "metadata": {
    "colab": {
      "name": "006_NoNumberCode.ipynb",
      "provenance": [],
      "collapsed_sections": []
    },
    "kernelspec": {
      "name": "python3",
      "display_name": "Python 3"
    },
    "language_info": {
      "name": "python"
    }
  },
  "cells": [
    {
      "cell_type": "markdown",
      "metadata": {
        "id": "wp79lbT0jOEJ"
      },
      "source": [
        "###Problem Statement"
      ]
    },
    {
      "cell_type": "markdown",
      "metadata": {
        "id": "aotFGUQjjhG0"
      },
      "source": [
        "Write a single line program to print numbers from 101 to 120 without using any numbers in the code."
      ]
    },
    {
      "cell_type": "code",
      "metadata": {
        "id": "e4yBsd-VjZ2v"
      },
      "source": [
        ""
      ],
      "execution_count": null,
      "outputs": []
    }
  ]
}