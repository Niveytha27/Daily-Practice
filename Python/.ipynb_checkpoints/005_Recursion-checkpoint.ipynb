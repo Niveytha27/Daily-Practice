{
 "cells": [
  {
   "cell_type": "markdown",
   "metadata": {
    "id": "M6SSbC4smWgh"
   },
   "source": [
    "###Reverse a string using recursion"
   ]
  },
  {
   "cell_type": "code",
   "execution_count": 2,
   "metadata": {
    "id": "KXbWGhXXmSxQ"
   },
   "outputs": [],
   "source": [
    "import random\n",
    "\n",
    "def rev_string(x):\n",
    "    if len(x) == 1:\n",
    "        return x\n",
    "    else:\n",
    "        return rev_string(x[1:]) + x[0]\n",
    "     \n",
    "chars = [element for element in 'abcdefghijklmnopqrstuvwxyz0123456789']\n",
    "\n",
    "for _ in range(25):\n",
    "    string = ''\n",
    "    num = random.randint(5, 25)\n",
    "    for i in range(num):\n",
    "        string += random.choice(chars)\n",
    "    reversed_string = rev_string(string)\n",
    "\n",
    "    if string != reversed_string[::-1]:\n",
    "        print('Bad Conversion')\n",
    "    "
   ]
  },
  {
   "cell_type": "markdown",
   "metadata": {
    "id": "F2wVr3mboQq8"
   },
   "source": [
    "###Print the first 25 Fibonacci numbers using recursion"
   ]
  },
  {
   "cell_type": "code",
   "execution_count": 3,
   "metadata": {
    "id": "Z6BIX2NXoW1B"
   },
   "outputs": [
    {
     "name": "stdout",
     "output_type": "stream",
     "text": [
      "    1|0\n",
      "    2|1\n",
      "    3|1\n",
      "    4|2\n",
      "    5|3\n",
      "    6|5\n",
      "    7|8\n",
      "    8|13\n",
      "    9|21\n",
      "   10|34\n",
      "   11|55\n",
      "   12|89\n",
      "   13|144\n",
      "   14|233\n",
      "   15|377\n",
      "   16|610\n",
      "   17|987\n",
      "   18|1597\n",
      "   19|2584\n",
      "   20|4181\n",
      "   21|6765\n",
      "   22|10946\n",
      "   23|17711\n",
      "   24|28657\n",
      "   25|46368\n"
     ]
    }
   ],
   "source": [
    "def fibonacci(a, b,count=1):\n",
    "    if count <=25:\n",
    "        print(f\"{count:5d}|{a+b}\")\n",
    "        a,b = b, a+b\n",
    "        count += 1\n",
    "        fibonacci(a,b,count)        \n",
    "\n",
    "fibonacci(-1, 1)"
   ]
  },
  {
   "cell_type": "code",
   "execution_count": null,
   "metadata": {},
   "outputs": [],
   "source": []
  }
 ],
 "metadata": {
  "colab": {
   "authorship_tag": "ABX9TyPRGEJsaM9UVh0OaIuOOrBx",
   "collapsed_sections": [],
   "name": "005_Recursion.ipynb",
   "provenance": []
  },
  "kernelspec": {
   "display_name": "Python 3",
   "language": "python",
   "name": "python3"
  },
  "language_info": {
   "codemirror_mode": {
    "name": "ipython",
    "version": 3
   },
   "file_extension": ".py",
   "mimetype": "text/x-python",
   "name": "python",
   "nbconvert_exporter": "python",
   "pygments_lexer": "ipython3",
   "version": "3.8.5"
  }
 },
 "nbformat": 4,
 "nbformat_minor": 1
}
