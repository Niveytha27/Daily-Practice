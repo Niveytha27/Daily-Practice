{
 "cells": [
  {
   "cell_type": "markdown",
   "metadata": {
    "id": "wp79lbT0jOEJ"
   },
   "source": [
    "### Problem Statement"
   ]
  },
  {
   "cell_type": "markdown",
   "metadata": {
    "id": "qiYZefvVryHD"
   },
   "source": [
    "There are N checkposts. All of those checkposts need to be watched by policemen of awareness K. There are two types of checkposts - Type 0 and Type 1. \n",
    "\n",
    "If a policeman is placed at checkpost X, he can cover checkposts in the range max(1, X-K) to min(N, X + K). A policeman placed at Type 0 checkpost can only watch his checkpost. \n",
    "\n",
    "The cost of placing the policeman at a checkpost I is I. Find the minimum cost of placing the policemen.\n",
    "\n",
    "Input Format:\n",
    "\n",
    "N = 5\\\n",
    "K = 2\\\n",
    "Types of checkposts : [0, 1, 0, 1, 0, 0, 0]\n"
   ]
  },
  {
   "cell_type": "code",
   "execution_count": 10,
   "metadata": {},
   "outputs": [],
   "source": [
    "def min_cost(N,K,chk_posts):\n",
    "    # Get the positions of type 1 checkposts\n",
    "    type1_pos = [i+1 for i in range(len(chk_posts)) if chk_posts[i] == 1]\n",
    "    print(\"Positions of Type1 checkposts :\", type1_pos)\n",
    "\n",
    "    # Initials\n",
    "    total_costs = []\n",
    "    cost = 0\n",
    "\n",
    "    # Calculate the cost if police placed in type 1 checkposts\n",
    "    for X in type1_pos:\n",
    "        min_pos = max(1, X-K) \n",
    "        max_pos = min(N, X+K) \n",
    "        cost = X\n",
    "        for i in range(1,len(chk_posts)+1):\n",
    "            if i < min_pos:\n",
    "                cost += i\n",
    "            elif i > max_pos:\n",
    "                cost += i\n",
    "        total_costs.append(cost)\n",
    "\n",
    "    # take the min of cost\n",
    "    print(\"Total Costs\", total_costs)\n",
    "    return min(total_costs)  "
   ]
  },
  {
   "cell_type": "code",
   "execution_count": 11,
   "metadata": {},
   "outputs": [
    {
     "name": "stdout",
     "output_type": "stream",
     "text": [
      "Positions of Type1 checkposts : [2, 4]\n",
      "Total Costs [20, 12]\n",
      "Minimum cost of placing policemen is: 12\n"
     ]
    }
   ],
   "source": [
    "# Example input provided.\n",
    "N=7\n",
    "K=2\n",
    "chk_posts=[0, 1, 0, 1, 0, 0, 0]\n",
    "print(\"Minimum cost of placing policemen is:\", min_cost(N,K,chk_posts))"
   ]
  },
  {
   "cell_type": "code",
   "execution_count": 12,
   "metadata": {},
   "outputs": [
    {
     "name": "stdout",
     "output_type": "stream",
     "text": [
      "N =  6\n",
      "K =  1\n",
      "Types of checkposts :  [1, 0, 1, 1, 1, 1]\n",
      "Positions of Type1 checkposts : [1, 3, 4, 5, 6]\n",
      "Total Costs [19, 15, 13, 11, 16]\n",
      "Minimum cost of placing policemen is: 11\n"
     ]
    }
   ],
   "source": [
    "# To run with random inputs\n",
    "import random\n",
    "N = random.randint(5,10)\n",
    "print(\"N = \", N)\n",
    "\n",
    "K = random.choice(list(range(1,N)))\n",
    "print(\"K = \", K)\n",
    "\n",
    "chk_posts=random.choices([0,1],k=N)\n",
    "print(\"Types of checkposts : \", chk_posts)\n",
    "\n",
    "print(\"Minimum cost of placing policemen is:\", min_cost(N,K,chk_posts))"
   ]
  },
  {
   "cell_type": "code",
   "execution_count": null,
   "metadata": {},
   "outputs": [],
   "source": []
  }
 ],
 "metadata": {
  "colab": {
   "collapsed_sections": [],
   "name": "009_Checkposts.ipynb",
   "provenance": []
  },
  "kernelspec": {
   "display_name": "Python 3",
   "language": "python",
   "name": "python3"
  },
  "language_info": {
   "codemirror_mode": {
    "name": "ipython",
    "version": 3
   },
   "file_extension": ".py",
   "mimetype": "text/x-python",
   "name": "python",
   "nbconvert_exporter": "python",
   "pygments_lexer": "ipython3",
   "version": "3.8.5"
  }
 },
 "nbformat": 4,
 "nbformat_minor": 1
}
