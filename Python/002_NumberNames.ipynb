{
  "nbformat": 4,
  "nbformat_minor": 0,
  "metadata": {
    "colab": {
      "name": "002_NumberNames.ipynb",
      "provenance": [],
      "collapsed_sections": []
    },
    "kernelspec": {
      "name": "python3",
      "display_name": "Python 3"
    },
    "language_info": {
      "name": "python"
    }
  },
  "cells": [
    {
      "cell_type": "markdown",
      "metadata": {
        "id": "B1JHK3_aw7FY"
      },
      "source": [
        "###Problem Statement"
      ]
    },
    {
      "cell_type": "markdown",
      "metadata": {
        "id": "ZuF-_t_MvUjW"
      },
      "source": [
        "For any random number from 0 to $10^{12}$, generate its number name. \\\n",
        "**Note**: Use Western Naming System [Ones, Tens, Hundreds, Thousands, Millions, Billions, Trillions] "
      ]
    },
    {
      "cell_type": "markdown",
      "metadata": {
        "id": "28lcYbUOw99j"
      },
      "source": [
        "###Code"
      ]
    },
    {
      "cell_type": "code",
      "metadata": {
        "colab": {
          "base_uri": "https://localhost:8080/"
        },
        "id": "wfzmnlAGvNMm",
        "outputId": "9f88652e-0641-46f3-ed13-0f874693e78d"
      },
      "source": [
        "# Imports\n",
        "import random\n",
        "import pandas as pd\n",
        "\n",
        "\n",
        "num_dict1 = {0: 'Zero', 1: 'One', 2: 'Two', 3: 'Three', 4: 'Four', 5: 'Five',6: 'Six', 7: 'Seven',\n",
        "             8: 'Eight', 9: 'Nine', 10: 'Ten', 11: 'Eleven', 12: 'Twelve', 13: 'Thirteen',\n",
        "             14: 'Fourteen', 15: 'Fifteen', 16: 'Sixteen', 17: 'Seventeen', 18: 'Eighteen',\n",
        "             19: 'Nineteen'}\n",
        "num_dict2 = {2: 'Twenty', 3: 'Thirty', 4: 'Forty', 5: 'Fifty', 6: 'Sixty', 7: 'Seventy',\n",
        "             8: 'Eighty', 9: 'Ninety'}\n",
        "ten_power = {1: 'Billion', 2: 'Million', 3: 'Thousand', 4: 'Hundred'}\n",
        "\n",
        "\n",
        "def name_gen1(n):\n",
        "    if n == 0:\n",
        "        name = ''\n",
        "    x = divmod(n, 100)\n",
        "    if x[0] == 0 and x[1] != 0:\n",
        "        y = divmod(x[1], 10)\n",
        "        name = name_gen2(x[1], y)\n",
        "    elif x[0] != 0:\n",
        "        if x[1] == 0:\n",
        "            name = num_dict1[x[0]]\n",
        "            y = divmod(x[1], 10)\n",
        "            name += ' ' + ten_power[4]\n",
        "        else:\n",
        "            name = num_dict1[x[0]]\n",
        "            y = divmod(x[1], 10)\n",
        "            name += ' ' + ten_power[4] + ' and ' + name_gen2(x[1], y)\n",
        "    return name\n",
        "\n",
        "\n",
        "def name_gen2(x,y):\n",
        "    n_name = ''\n",
        "    if y[0] == 0 and y[1] != 0:\n",
        "        n_name = num_dict1[y[1]]\n",
        "    elif y[0] == 1:\n",
        "        n_name = num_dict1[x]\n",
        "    elif y[0] != 0 and y[1] == 0:\n",
        "        n_name = num_dict2[y[0]]\n",
        "    elif y[0] != 0 and y[1] != 0:\n",
        "        n_name = num_dict2[y[0]] + ' ' + num_dict1[y[1]]\n",
        "    return n_name\n",
        "\n",
        "\n",
        "def split_num(num):\n",
        "    if num == 0:\n",
        "        name = num_dict1[num]\n",
        "    elif len(str(num)) <= 3:\n",
        "        name = name_gen1(num)\n",
        "    elif 3 <= len(str(num)) <= 6:\n",
        "        num1, num2 = divmod(num, 1000)\n",
        "        num_name1 = name_gen1(num1)\n",
        "        num_name2 = name_gen1(num2)\n",
        "        name = f\"{num_name1} {get_power_name(num1,3)} {num_name2}\"\n",
        "    elif 6 <= len(str(num)) <= 9:\n",
        "        n, num3 = divmod(num, 1000)\n",
        "        num1, num2 = divmod(n, 1000)\n",
        "        num_name1 = name_gen1(num1)\n",
        "        num_name2 = name_gen1(num2)\n",
        "        num_name3 = name_gen1(num3)\n",
        "        name = f\"{num_name1} {get_power_name(num1,2)} {num_name2} {get_power_name(num2,3)} {num_name3}\"\n",
        "    elif 9 <= len(str(num)) <= 12:\n",
        "        n, num4 = divmod(num, 1000)\n",
        "        n1, num3 = divmod(n, 1000)\n",
        "        num1, num2 = divmod(n1, 1000)\n",
        "        num_name1 = name_gen1(num1)\n",
        "        num_name2 = name_gen1(num2)\n",
        "        num_name3 = name_gen1(num3)\n",
        "        num_name4 = name_gen1(num4)\n",
        "        name = f\"{num_name1} {get_power_name(num1,1)} {num_name2} \" \\\n",
        "               f\"{get_power_name(num2,2)} {num_name3} {get_power_name(num3,3)} {num_name4}\"\n",
        "    return name\n",
        "\n",
        "\n",
        "def get_power_name(num, e):\n",
        "    if num == 0:\n",
        "        power_name = ''\n",
        "    elif num != 0  and e == 1:\n",
        "        power_name = ten_power[1]\n",
        "    elif num != 0  and e == 2:\n",
        "        power_name = ten_power[2]\n",
        "    elif num != 0  and e == 3:\n",
        "        power_name = ten_power[3]\n",
        "    return power_name\n",
        "\n",
        "\n",
        "# Driver\n",
        "N = 10\n",
        "L0, L1 = 0, 1e+12\n",
        "numberlist = []\n",
        "for _ in range(N):\n",
        "    numberlist.append(random.randint(L0, L1))\n",
        "for number in numberlist:\n",
        "    print(f\"Number : {number:,} |  Number Name : {split_num(number)}\")"
      ],
      "execution_count": 1,
      "outputs": [
        {
          "output_type": "stream",
          "text": [
            "Number : 297,990,817,901 |  Number Name : Two Hundred and Ninety Seven Billion Nine Hundred and Ninety Million Eight Hundred and Seventeen Thousand Nine Hundred and One\n",
            "Number : 131,311,937,064 |  Number Name : One Hundred and Thirty One Billion Three Hundred and Eleven Million Nine Hundred and Thirty Seven Thousand Sixty Four\n",
            "Number : 371,522,032,324 |  Number Name : Three Hundred and Seventy One Billion Five Hundred and Twenty Two Million Thirty Two Thousand Three Hundred and Twenty Four\n",
            "Number : 553,779,719,371 |  Number Name : Five Hundred and Fifty Three Billion Seven Hundred and Seventy Nine Million Seven Hundred and Nineteen Thousand Three Hundred and Seventy One\n",
            "Number : 357,649,207,239 |  Number Name : Three Hundred and Fifty Seven Billion Six Hundred and Forty Nine Million Two Hundred and Seven Thousand Two Hundred and Thirty Nine\n",
            "Number : 330,277,193,448 |  Number Name : Three Hundred and Thirty Billion Two Hundred and Seventy Seven Million One Hundred and Ninety Three Thousand Four Hundred and Forty Eight\n",
            "Number : 949,189,031,357 |  Number Name : Nine Hundred and Forty Nine Billion One Hundred and Eighty Nine Million Thirty One Thousand Three Hundred and Fifty Seven\n",
            "Number : 735,522,876,347 |  Number Name : Seven Hundred and Thirty Five Billion Five Hundred and Twenty Two Million Eight Hundred and Seventy Six Thousand Three Hundred and Forty Seven\n",
            "Number : 726,000,726,772 |  Number Name : Seven Hundred and Twenty Six Billion   Seven Hundred and Twenty Six Thousand Seven Hundred and Seventy Two\n",
            "Number : 678,236,970,963 |  Number Name : Six Hundred and Seventy Eight Billion Two Hundred and Thirty Six Million Nine Hundred and Seventy Thousand Nine Hundred and Sixty Three\n"
          ],
          "name": "stdout"
        }
      ]
    }
  ]
}