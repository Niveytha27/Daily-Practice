{
  "nbformat": 4,
  "nbformat_minor": 0,
  "metadata": {
    "colab": {
      "name": "008_FindMedian.ipynb",
      "provenance": [],
      "collapsed_sections": []
    },
    "kernelspec": {
      "display_name": "Python 3",
      "language": "python",
      "name": "python3"
    },
    "language_info": {
      "codemirror_mode": {
        "name": "ipython",
        "version": 3
      },
      "file_extension": ".py",
      "mimetype": "text/x-python",
      "name": "python",
      "nbconvert_exporter": "python",
      "pygments_lexer": "ipython3",
      "version": "3.8.5"
    }
  },
  "cells": [
    {
      "cell_type": "markdown",
      "metadata": {
        "id": "wp79lbT0jOEJ"
      },
      "source": [
        "### Problem Statement"
      ]
    },
    {
      "cell_type": "markdown",
      "metadata": {
        "id": "aotFGUQjjhG0"
      },
      "source": [
        "Inputs:\n",
        "\n",
        "1.   N is a positive integer which represents the number of elements in an array having numbers from 1 to N.\n",
        "2.   X is an integer such that 1 <= X <= N.\n",
        "\n",
        "Constraints:\n",
        "* Median is the center element of the array if the number of elements is odd, center-left element if the number of elements in the subarray is even.\n",
        "\n",
        "Problem:\n",
        "*  Identify the number of subarrays of the set of length N having median as X.\n",
        "*  Print the subarrays.\n",
        "\n",
        "Examples:\n",
        "\n",
        "*   N = 5\n",
        "*   X = 2\n",
        "*   Subarrays: {2}, {2, 3}, {1, 2, 3}, {1, 2, 3, 4}\n",
        "\n",
        "Hence answer is 4."
      ]
    },
    {
      "cell_type": "markdown",
      "metadata": {
        "id": "5Y6R6K58BcsP"
      },
      "source": [
        "### Medhod 1"
      ]
    },
    {
      "cell_type": "code",
      "metadata": {
        "id": "uQzCXw8ja93H",
        "outputId": "0e459f32-4b71-4d1b-8439-63778e78ac57"
      },
      "source": [
        "# Imports\n",
        "import random\n",
        "\n",
        "# Core Logic\n",
        "N = random.randint(5,15)\n",
        "l = list(range(1,N))\n",
        "X = random.choice(l)\n",
        "\n",
        "a = l.index(X)\n",
        "i = 0\n",
        "sub = []\n",
        "\n",
        "if a >= len(l)/2:\n",
        "    while a+i < len(l):\n",
        "        sub.append(l[a-i:a+i+1])\n",
        "        sub.append(l[a-i:a+i+2])\n",
        "        i += 1\n",
        "    sub.pop()\n",
        "elif a < len(l)/2:\n",
        "    while a-i >= 0:\n",
        "        sub.append(l[a-i:a+i+1])\n",
        "        sub.append(l[a-i:a+i+2])\n",
        "        i += 1\n",
        "        \n",
        "print(f\"No. of sub arrays having median as {X} in the list {l} is {len(sub)}\")\n",
        "print(f\"List of sub arrays having median as {X} is {sub}\")"
      ],
      "execution_count": null,
      "outputs": [
        {
          "output_type": "stream",
          "text": [
            "No. of sub arrays having median as 5 in the list [1, 2, 3, 4, 5, 6, 7, 8, 9, 10] is 10\n",
            "List of sub arrays having median as 5 is [[5], [5, 6], [4, 5, 6], [4, 5, 6, 7], [3, 4, 5, 6, 7], [3, 4, 5, 6, 7, 8], [2, 3, 4, 5, 6, 7, 8], [2, 3, 4, 5, 6, 7, 8, 9], [1, 2, 3, 4, 5, 6, 7, 8, 9], [1, 2, 3, 4, 5, 6, 7, 8, 9, 10]]\n"
          ],
          "name": "stdout"
        }
      ]
    },
    {
      "cell_type": "markdown",
      "metadata": {
        "id": "w6Rt2dJBBfEa"
      },
      "source": [
        "### Method 2"
      ]
    },
    {
      "cell_type": "code",
      "metadata": {
        "id": "syToHWG-BJnL",
        "colab": {
          "base_uri": "https://localhost:8080/"
        },
        "outputId": "1f994443-06ee-4a7b-d98b-042ea317c026"
      },
      "source": [
        "prevn = 0\n",
        "for N in range(1, 11):\n",
        "    for X in range(1, N+1):\n",
        "        sub = []\n",
        "        if N != X:\n",
        "            for i in range(X):\n",
        "                if X - i >= 1 and X + i <= N:\n",
        "                    sub.append([_ for _ in range(X - i, X + i + 1)])\n",
        "                if X - i >= 1 and X + i + 1 <= N:\n",
        "                    sub.append([_ for _ in range(X - i, X + i + 2)])\n",
        "        else:\n",
        "            sub.append([X])  \n",
        "        if prevn != N:\n",
        "            print('')\n",
        "            print(f'N = {N:02d} | X = {X:02d} | Subarrays = {len(sub):02d} | {sub}')\n",
        "        else:\n",
        "            print(f'       | X = {X:02d} | Subarrays = {len(sub):02d} | {sub}')\n",
        "        prevn = N  "
      ],
      "execution_count": 1,
      "outputs": [
        {
          "output_type": "stream",
          "text": [
            "\n",
            "N = 01 | X = 01 | Subarrays = 01 | [[1]]\n",
            "\n",
            "N = 02 | X = 01 | Subarrays = 02 | [[1], [1, 2]]\n",
            "       | X = 02 | Subarrays = 01 | [[2]]\n",
            "\n",
            "N = 03 | X = 01 | Subarrays = 02 | [[1], [1, 2]]\n",
            "       | X = 02 | Subarrays = 03 | [[2], [2, 3], [1, 2, 3]]\n",
            "       | X = 03 | Subarrays = 01 | [[3]]\n",
            "\n",
            "N = 04 | X = 01 | Subarrays = 02 | [[1], [1, 2]]\n",
            "       | X = 02 | Subarrays = 04 | [[2], [2, 3], [1, 2, 3], [1, 2, 3, 4]]\n",
            "       | X = 03 | Subarrays = 03 | [[3], [3, 4], [2, 3, 4]]\n",
            "       | X = 04 | Subarrays = 01 | [[4]]\n",
            "\n",
            "N = 05 | X = 01 | Subarrays = 02 | [[1], [1, 2]]\n",
            "       | X = 02 | Subarrays = 04 | [[2], [2, 3], [1, 2, 3], [1, 2, 3, 4]]\n",
            "       | X = 03 | Subarrays = 05 | [[3], [3, 4], [2, 3, 4], [2, 3, 4, 5], [1, 2, 3, 4, 5]]\n",
            "       | X = 04 | Subarrays = 03 | [[4], [4, 5], [3, 4, 5]]\n",
            "       | X = 05 | Subarrays = 01 | [[5]]\n",
            "\n",
            "N = 06 | X = 01 | Subarrays = 02 | [[1], [1, 2]]\n",
            "       | X = 02 | Subarrays = 04 | [[2], [2, 3], [1, 2, 3], [1, 2, 3, 4]]\n",
            "       | X = 03 | Subarrays = 06 | [[3], [3, 4], [2, 3, 4], [2, 3, 4, 5], [1, 2, 3, 4, 5], [1, 2, 3, 4, 5, 6]]\n",
            "       | X = 04 | Subarrays = 05 | [[4], [4, 5], [3, 4, 5], [3, 4, 5, 6], [2, 3, 4, 5, 6]]\n",
            "       | X = 05 | Subarrays = 03 | [[5], [5, 6], [4, 5, 6]]\n",
            "       | X = 06 | Subarrays = 01 | [[6]]\n",
            "\n",
            "N = 07 | X = 01 | Subarrays = 02 | [[1], [1, 2]]\n",
            "       | X = 02 | Subarrays = 04 | [[2], [2, 3], [1, 2, 3], [1, 2, 3, 4]]\n",
            "       | X = 03 | Subarrays = 06 | [[3], [3, 4], [2, 3, 4], [2, 3, 4, 5], [1, 2, 3, 4, 5], [1, 2, 3, 4, 5, 6]]\n",
            "       | X = 04 | Subarrays = 07 | [[4], [4, 5], [3, 4, 5], [3, 4, 5, 6], [2, 3, 4, 5, 6], [2, 3, 4, 5, 6, 7], [1, 2, 3, 4, 5, 6, 7]]\n",
            "       | X = 05 | Subarrays = 05 | [[5], [5, 6], [4, 5, 6], [4, 5, 6, 7], [3, 4, 5, 6, 7]]\n",
            "       | X = 06 | Subarrays = 03 | [[6], [6, 7], [5, 6, 7]]\n",
            "       | X = 07 | Subarrays = 01 | [[7]]\n",
            "\n",
            "N = 08 | X = 01 | Subarrays = 02 | [[1], [1, 2]]\n",
            "       | X = 02 | Subarrays = 04 | [[2], [2, 3], [1, 2, 3], [1, 2, 3, 4]]\n",
            "       | X = 03 | Subarrays = 06 | [[3], [3, 4], [2, 3, 4], [2, 3, 4, 5], [1, 2, 3, 4, 5], [1, 2, 3, 4, 5, 6]]\n",
            "       | X = 04 | Subarrays = 08 | [[4], [4, 5], [3, 4, 5], [3, 4, 5, 6], [2, 3, 4, 5, 6], [2, 3, 4, 5, 6, 7], [1, 2, 3, 4, 5, 6, 7], [1, 2, 3, 4, 5, 6, 7, 8]]\n",
            "       | X = 05 | Subarrays = 07 | [[5], [5, 6], [4, 5, 6], [4, 5, 6, 7], [3, 4, 5, 6, 7], [3, 4, 5, 6, 7, 8], [2, 3, 4, 5, 6, 7, 8]]\n",
            "       | X = 06 | Subarrays = 05 | [[6], [6, 7], [5, 6, 7], [5, 6, 7, 8], [4, 5, 6, 7, 8]]\n",
            "       | X = 07 | Subarrays = 03 | [[7], [7, 8], [6, 7, 8]]\n",
            "       | X = 08 | Subarrays = 01 | [[8]]\n",
            "\n",
            "N = 09 | X = 01 | Subarrays = 02 | [[1], [1, 2]]\n",
            "       | X = 02 | Subarrays = 04 | [[2], [2, 3], [1, 2, 3], [1, 2, 3, 4]]\n",
            "       | X = 03 | Subarrays = 06 | [[3], [3, 4], [2, 3, 4], [2, 3, 4, 5], [1, 2, 3, 4, 5], [1, 2, 3, 4, 5, 6]]\n",
            "       | X = 04 | Subarrays = 08 | [[4], [4, 5], [3, 4, 5], [3, 4, 5, 6], [2, 3, 4, 5, 6], [2, 3, 4, 5, 6, 7], [1, 2, 3, 4, 5, 6, 7], [1, 2, 3, 4, 5, 6, 7, 8]]\n",
            "       | X = 05 | Subarrays = 09 | [[5], [5, 6], [4, 5, 6], [4, 5, 6, 7], [3, 4, 5, 6, 7], [3, 4, 5, 6, 7, 8], [2, 3, 4, 5, 6, 7, 8], [2, 3, 4, 5, 6, 7, 8, 9], [1, 2, 3, 4, 5, 6, 7, 8, 9]]\n",
            "       | X = 06 | Subarrays = 07 | [[6], [6, 7], [5, 6, 7], [5, 6, 7, 8], [4, 5, 6, 7, 8], [4, 5, 6, 7, 8, 9], [3, 4, 5, 6, 7, 8, 9]]\n",
            "       | X = 07 | Subarrays = 05 | [[7], [7, 8], [6, 7, 8], [6, 7, 8, 9], [5, 6, 7, 8, 9]]\n",
            "       | X = 08 | Subarrays = 03 | [[8], [8, 9], [7, 8, 9]]\n",
            "       | X = 09 | Subarrays = 01 | [[9]]\n",
            "\n",
            "N = 10 | X = 01 | Subarrays = 02 | [[1], [1, 2]]\n",
            "       | X = 02 | Subarrays = 04 | [[2], [2, 3], [1, 2, 3], [1, 2, 3, 4]]\n",
            "       | X = 03 | Subarrays = 06 | [[3], [3, 4], [2, 3, 4], [2, 3, 4, 5], [1, 2, 3, 4, 5], [1, 2, 3, 4, 5, 6]]\n",
            "       | X = 04 | Subarrays = 08 | [[4], [4, 5], [3, 4, 5], [3, 4, 5, 6], [2, 3, 4, 5, 6], [2, 3, 4, 5, 6, 7], [1, 2, 3, 4, 5, 6, 7], [1, 2, 3, 4, 5, 6, 7, 8]]\n",
            "       | X = 05 | Subarrays = 10 | [[5], [5, 6], [4, 5, 6], [4, 5, 6, 7], [3, 4, 5, 6, 7], [3, 4, 5, 6, 7, 8], [2, 3, 4, 5, 6, 7, 8], [2, 3, 4, 5, 6, 7, 8, 9], [1, 2, 3, 4, 5, 6, 7, 8, 9], [1, 2, 3, 4, 5, 6, 7, 8, 9, 10]]\n",
            "       | X = 06 | Subarrays = 09 | [[6], [6, 7], [5, 6, 7], [5, 6, 7, 8], [4, 5, 6, 7, 8], [4, 5, 6, 7, 8, 9], [3, 4, 5, 6, 7, 8, 9], [3, 4, 5, 6, 7, 8, 9, 10], [2, 3, 4, 5, 6, 7, 8, 9, 10]]\n",
            "       | X = 07 | Subarrays = 07 | [[7], [7, 8], [6, 7, 8], [6, 7, 8, 9], [5, 6, 7, 8, 9], [5, 6, 7, 8, 9, 10], [4, 5, 6, 7, 8, 9, 10]]\n",
            "       | X = 08 | Subarrays = 05 | [[8], [8, 9], [7, 8, 9], [7, 8, 9, 10], [6, 7, 8, 9, 10]]\n",
            "       | X = 09 | Subarrays = 03 | [[9], [9, 10], [8, 9, 10]]\n",
            "       | X = 10 | Subarrays = 01 | [[10]]\n"
          ],
          "name": "stdout"
        }
      ]
    }
  ]
}