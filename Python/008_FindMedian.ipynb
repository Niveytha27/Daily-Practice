{
  "nbformat": 4,
  "nbformat_minor": 0,
  "metadata": {
    "colab": {
      "name": "008_FindMedian.ipynb",
      "provenance": [],
      "collapsed_sections": []
    },
    "kernelspec": {
      "name": "python3",
      "display_name": "Python 3"
    },
    "language_info": {
      "name": "python"
    }
  },
  "cells": [
    {
      "cell_type": "markdown",
      "metadata": {
        "id": "wp79lbT0jOEJ"
      },
      "source": [
        "###Problem Statement"
      ]
    },
    {
      "cell_type": "markdown",
      "metadata": {
        "id": "aotFGUQjjhG0"
      },
      "source": [
        "Inputs:\n",
        "\n",
        "1.   N is a positive integer which represents the number of elements in an array having numbers from 1 to N.\n",
        "2.   X is an integer such that 1 <= X <= N.\n",
        "\n",
        "Constraints:\n",
        "* Median is the center element of the array if the number of elements is odd, center-left element if the number of elements in the subarray is even.\n",
        "\n",
        "Problem:\n",
        "*  Identify the number of subarrays of the set of length N having median as X.\n",
        "*  Print the subarrays.\n",
        "\n",
        "Examples:\n",
        "\n",
        "*   N = 5\n",
        "*   X = 2\n",
        "*   Subarrays: {2}, {2, 3}, {1, 2, 3}, {1, 2, 3, 4}\n",
        "\n",
        "Hence answer is 4."
      ]
    },
    {
      "cell_type": "code",
      "metadata": {
        "id": "uQzCXw8ja93H"
      },
      "source": [
        ""
      ],
      "execution_count": null,
      "outputs": []
    }
  ]
}