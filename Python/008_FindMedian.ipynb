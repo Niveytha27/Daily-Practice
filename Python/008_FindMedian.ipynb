{
 "cells": [
  {
   "cell_type": "markdown",
   "metadata": {
    "id": "wp79lbT0jOEJ"
   },
   "source": [
    "### Problem Statement"
   ]
  },
  {
   "cell_type": "markdown",
   "metadata": {
    "id": "aotFGUQjjhG0"
   },
   "source": [
    "Inputs:\n",
    "\n",
    "1.   N is a positive integer which represents the number of elements in an array having numbers from 1 to N.\n",
    "2.   X is an integer such that 1 <= X <= N.\n",
    "\n",
    "Constraints:\n",
    "* Median is the center element of the array if the number of elements is odd, center-left element if the number of elements in the subarray is even.\n",
    "\n",
    "Problem:\n",
    "*  Identify the number of subarrays of the set of length N having median as X.\n",
    "*  Print the subarrays.\n",
    "\n",
    "Examples:\n",
    "\n",
    "*   N = 5\n",
    "*   X = 2\n",
    "*   Subarrays: {2}, {2, 3}, {1, 2, 3}, {1, 2, 3, 4}\n",
    "\n",
    "Hence answer is 4."
   ]
  },
  {
   "cell_type": "code",
   "execution_count": 3,
   "metadata": {
    "id": "uQzCXw8ja93H"
   },
   "outputs": [
    {
     "name": "stdout",
     "output_type": "stream",
     "text": [
      "No. of sub arrays having median as 5 in the list [1, 2, 3, 4, 5, 6, 7, 8, 9, 10] is 10\n",
      "List of sub arrays having median as 5 is [[5], [5, 6], [4, 5, 6], [4, 5, 6, 7], [3, 4, 5, 6, 7], [3, 4, 5, 6, 7, 8], [2, 3, 4, 5, 6, 7, 8], [2, 3, 4, 5, 6, 7, 8, 9], [1, 2, 3, 4, 5, 6, 7, 8, 9], [1, 2, 3, 4, 5, 6, 7, 8, 9, 10]]\n"
     ]
    }
   ],
   "source": [
    "# Imports\n",
    "import random\n",
    "\n",
    "# Core Logic\n",
    "N = random.randint(5,15)\n",
    "l = list(range(1,N))\n",
    "X = random.choice(l)\n",
    "\n",
    "a = l.index(X)\n",
    "i = 0\n",
    "sub = []\n",
    "\n",
    "if a >= len(l)/2:\n",
    "    while a+i < len(l):\n",
    "        sub.append(l[a-i:a+i+1])\n",
    "        sub.append(l[a-i:a+i+2])\n",
    "        i += 1\n",
    "    sub.pop()\n",
    "elif a < len(l)/2:\n",
    "    while a-i >= 0:\n",
    "        sub.append(l[a-i:a+i+1])\n",
    "        sub.append(l[a-i:a+i+2])\n",
    "        i += 1\n",
    "        \n",
    "print(f\"No. of sub arrays having median as {X} in the list {l} is {len(sub)}\")\n",
    "print(f\"List of sub arrays having median as {X} is {sub}\")"
   ]
  },
  {
   "cell_type": "code",
   "execution_count": null,
   "metadata": {},
   "outputs": [],
   "source": []
  }
 ],
 "metadata": {
  "colab": {
   "collapsed_sections": [],
   "name": "008_FindMedian.ipynb",
   "provenance": []
  },
  "kernelspec": {
   "display_name": "Python 3",
   "language": "python",
   "name": "python3"
  },
  "language_info": {
   "codemirror_mode": {
    "name": "ipython",
    "version": 3
   },
   "file_extension": ".py",
   "mimetype": "text/x-python",
   "name": "python",
   "nbconvert_exporter": "python",
   "pygments_lexer": "ipython3",
   "version": "3.8.5"
  }
 },
 "nbformat": 4,
 "nbformat_minor": 1
}
