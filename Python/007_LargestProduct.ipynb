{
  "nbformat": 4,
  "nbformat_minor": 0,
  "metadata": {
    "colab": {
      "name": "007_LargestProduct.ipynb",
      "provenance": [],
      "collapsed_sections": []
    },
    "kernelspec": {
      "name": "python3",
      "display_name": "Python 3"
    },
    "language_info": {
      "name": "python"
    }
  },
  "cells": [
    {
      "cell_type": "markdown",
      "metadata": {
        "id": "wp79lbT0jOEJ"
      },
      "source": [
        "###Problem Statement"
      ]
    },
    {
      "cell_type": "markdown",
      "metadata": {
        "id": "aotFGUQjjhG0"
      },
      "source": [
        "Given a list of N lists, find the maximum product of the combination of one element from each list.\n",
        "\n",
        "Example:\n",
        "\n",
        "Input:\\\n",
        "N = 3 \\\n",
        "List = [[1, -2, 3, 10], [-20, 5, 10], [-500, 50, 400]]\n",
        "\n",
        "Output:\n",
        "100000"
      ]
    },
    {
      "cell_type": "code",
      "metadata": {
        "id": "e4yBsd-VjZ2v"
      },
      "source": [
        ""
      ],
      "execution_count": null,
      "outputs": []
    }
  ]
}