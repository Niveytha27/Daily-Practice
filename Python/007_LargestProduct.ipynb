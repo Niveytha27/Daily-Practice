{
 "cells": [
  {
   "cell_type": "markdown",
   "metadata": {
    "id": "wp79lbT0jOEJ"
   },
   "source": [
    "### Problem Statement"
   ]
  },
  {
   "cell_type": "markdown",
   "metadata": {
    "id": "aotFGUQjjhG0"
   },
   "source": [
    "Given a list of N lists, find the maximum product of the combination of one element from each list.\n",
    "\n",
    "Example:\n",
    "\n",
    "Input:\\\n",
    "N = 3 \\\n",
    "List = [[1, -2, 3, 10], [-20, 5, 10], [-500, 50, 400]]\n",
    "\n",
    "Output:\n",
    "100000"
   ]
  },
  {
   "cell_type": "code",
   "execution_count": 1,
   "metadata": {
    "id": "e4yBsd-VjZ2v"
   },
   "outputs": [
    {
     "name": "stdout",
     "output_type": "stream",
     "text": [
      "Maximum product we get from list of N lists [[73, -91, -65, 82], [38, 58, 18, -10], [-48, 8, 16, -57], [0, -11, -13, 82]] : 24669372\n"
     ]
    }
   ],
   "source": [
    "# Imports\n",
    "import random\n",
    "import math\n",
    "\n",
    "# Core Logic\n",
    "def get_max_product(max_pos,min_neg):    \n",
    "    max_product = [] \n",
    "\n",
    "    max_product.append(math.prod(max_pos))\n",
    "    max_product.append(math.prod(min_neg))\n",
    "\n",
    "    for i in range(0,len(max_pos)):\n",
    "        if abs(min_neg[i]) > max_pos[i]:\n",
    "            max_pos[i] = min_neg[i]\n",
    "            max_product.append(math.prod(max_pos))\n",
    "            \n",
    "    return(max(max_product))\n",
    "\n",
    "def print_max_product(nest_list):\n",
    "    max_pos, min_neg = [], []\n",
    "    for lst in nest_list:\n",
    "        max_pos.append(max(lst))\n",
    "        min_neg.append(min(lst))\n",
    "\n",
    "    print(f\"Maximum product we get from list of N lists {nest_list} : {get_max_product(max_pos,min_neg)}\")\n",
    "    \n",
    "# Driver\n",
    "nest_list = [[random.randint(-100,100) for i in range(2,6)] for j in range(2,6)]\n",
    "print_max_product(nest_list)"
   ]
  },
  {
   "cell_type": "code",
   "execution_count": null,
   "metadata": {},
   "outputs": [],
   "source": []
  },
  {
   "cell_type": "code",
   "execution_count": null,
   "metadata": {},
   "outputs": [],
   "source": []
  }
 ],
 "metadata": {
  "colab": {
   "collapsed_sections": [],
   "name": "007_LargestProduct.ipynb",
   "provenance": []
  },
  "kernelspec": {
   "display_name": "Python 3",
   "language": "python",
   "name": "python3"
  },
  "language_info": {
   "codemirror_mode": {
    "name": "ipython",
    "version": 3
   },
   "file_extension": ".py",
   "mimetype": "text/x-python",
   "name": "python",
   "nbconvert_exporter": "python",
   "pygments_lexer": "ipython3",
   "version": "3.8.5"
  }
 },
 "nbformat": 4,
 "nbformat_minor": 1
}
