{
  "nbformat": 4,
  "nbformat_minor": 0,
  "metadata": {
    "colab": {
      "name": "001_EmailValidation.ipynb",
      "provenance": [],
      "collapsed_sections": []
    },
    "kernelspec": {
      "name": "python3",
      "display_name": "Python 3"
    },
    "language_info": {
      "name": "python"
    }
  },
  "cells": [
    {
      "cell_type": "markdown",
      "metadata": {
        "id": "B1JHK3_aw7FY"
      },
      "source": [
        "###Problem Statement"
      ]
    },
    {
      "cell_type": "markdown",
      "metadata": {
        "id": "ZuF-_t_MvUjW"
      },
      "source": [
        "Rules for validation:\n",
        "\n",
        "\n",
        "* There should be only one @ symbol.\n",
        "* There should be at least one period.\n",
        "* Special characters should not come in succession.\n",
        "* User name must not have any special characters except period and underscore.\n",
        "* Username must not start or end with a special character.\n",
        "* Email must not start or end with a special character.\n",
        "* Domain name and Domain extension should be at least two characters long.\n",
        "* Domain name should be alphabetic.\n",
        "* Domain extension can have only period and hyphen as special characters.\n",
        "* Maximum length of the email should be 50 and minimum length should be 8.\n",
        "* Username must have at least one alphabetic character.\n",
        "* There should not be any characters other than a-z, A-Z, 0-9 and [@ . _ -] in the email address.\n",
        "* There should not be any whitespace characters in the email address.\n",
        "\n"
      ]
    },
    {
      "cell_type": "markdown",
      "metadata": {
        "id": "28lcYbUOw99j"
      },
      "source": [
        "###Code"
      ]
    },
    {
      "cell_type": "code",
      "metadata": {
        "colab": {
          "base_uri": "https://localhost:8080/",
          "height": 550
        },
        "id": "wfzmnlAGvNMm",
        "outputId": "bb70ee79-c7b5-4a8e-9886-372df87b716c"
      },
      "source": [
        "import re\n",
        "import pandas as pd\n",
        "pd.set_option('display.width', None)\n",
        "pd.set_option('display.max_colwidth', 100)\n",
        "\n",
        "def evaluate_email(email):\n",
        "    result = ''\n",
        "    pattern = re.compile(r\"((^[a-zA-Z0-9]+)([\\._]{1}|[a-zA-Z0-9]+)[a-zA-Z0-9]+[@]{1}([a-zA-Z]{2,}\\.[a-zA-Z0-9\\.-]{2,}))\")\n",
        "    if re.fullmatch(pattern, email) and len(email) in range(8,51):\n",
        "        result = 'Valid'\n",
        "    else:\n",
        "        result = 'Invalid'\n",
        "    return result\n",
        "\n",
        "email_list = ['brucewayne@jla.com', 'clark_kent@jla.com', '_jonnjonzz@jla.com', 'batman@jla.lead-mem.co.us', 'dianaprince@jla.com', 'victorstone@jla.c0m', 'billybatson@j.com', 'barryallen@jla.c', 'arthurcurry@atlantis.com', 'johnconstantine@jla.c#.us', 'zatannazatara@j1a.com', 'haljordan.@jla.com', 'oliverqueen@jlacom', 'ray_palmer@jla@us', 'carter&hall@jla.com', 'b@jl.us',  'firestorm_equals_engineer_ronald_raymond_plus_doctor_martin_stein@justiceleagueofamerica.com']\n",
        "result_list = []\n",
        "for email in email_list:\n",
        "    result_list.append(evaluate_email(email))\n",
        "\n",
        "df = pd.DataFrame({'Email': email_list, 'Result': result_list})\n",
        "df"
      ],
      "execution_count": 1,
      "outputs": [
        {
          "output_type": "execute_result",
          "data": {
            "text/html": [
              "<div>\n",
              "<style scoped>\n",
              "    .dataframe tbody tr th:only-of-type {\n",
              "        vertical-align: middle;\n",
              "    }\n",
              "\n",
              "    .dataframe tbody tr th {\n",
              "        vertical-align: top;\n",
              "    }\n",
              "\n",
              "    .dataframe thead th {\n",
              "        text-align: right;\n",
              "    }\n",
              "</style>\n",
              "<table border=\"1\" class=\"dataframe\">\n",
              "  <thead>\n",
              "    <tr style=\"text-align: right;\">\n",
              "      <th></th>\n",
              "      <th>Email</th>\n",
              "      <th>Result</th>\n",
              "    </tr>\n",
              "  </thead>\n",
              "  <tbody>\n",
              "    <tr>\n",
              "      <th>0</th>\n",
              "      <td>brucewayne@jla.com</td>\n",
              "      <td>Valid</td>\n",
              "    </tr>\n",
              "    <tr>\n",
              "      <th>1</th>\n",
              "      <td>clark_kent@jla.com</td>\n",
              "      <td>Valid</td>\n",
              "    </tr>\n",
              "    <tr>\n",
              "      <th>2</th>\n",
              "      <td>_jonnjonzz@jla.com</td>\n",
              "      <td>Invalid</td>\n",
              "    </tr>\n",
              "    <tr>\n",
              "      <th>3</th>\n",
              "      <td>batman@jla.lead-mem.co.us</td>\n",
              "      <td>Valid</td>\n",
              "    </tr>\n",
              "    <tr>\n",
              "      <th>4</th>\n",
              "      <td>dianaprince@jla.com</td>\n",
              "      <td>Valid</td>\n",
              "    </tr>\n",
              "    <tr>\n",
              "      <th>5</th>\n",
              "      <td>victorstone@jla.c0m</td>\n",
              "      <td>Valid</td>\n",
              "    </tr>\n",
              "    <tr>\n",
              "      <th>6</th>\n",
              "      <td>billybatson@j.com</td>\n",
              "      <td>Invalid</td>\n",
              "    </tr>\n",
              "    <tr>\n",
              "      <th>7</th>\n",
              "      <td>barryallen@jla.c</td>\n",
              "      <td>Invalid</td>\n",
              "    </tr>\n",
              "    <tr>\n",
              "      <th>8</th>\n",
              "      <td>arthurcurry@atlantis.com</td>\n",
              "      <td>Valid</td>\n",
              "    </tr>\n",
              "    <tr>\n",
              "      <th>9</th>\n",
              "      <td>johnconstantine@jla.c#.us</td>\n",
              "      <td>Invalid</td>\n",
              "    </tr>\n",
              "    <tr>\n",
              "      <th>10</th>\n",
              "      <td>zatannazatara@j1a.com</td>\n",
              "      <td>Invalid</td>\n",
              "    </tr>\n",
              "    <tr>\n",
              "      <th>11</th>\n",
              "      <td>haljordan.@jla.com</td>\n",
              "      <td>Invalid</td>\n",
              "    </tr>\n",
              "    <tr>\n",
              "      <th>12</th>\n",
              "      <td>oliverqueen@jlacom</td>\n",
              "      <td>Invalid</td>\n",
              "    </tr>\n",
              "    <tr>\n",
              "      <th>13</th>\n",
              "      <td>ray_palmer@jla@us</td>\n",
              "      <td>Invalid</td>\n",
              "    </tr>\n",
              "    <tr>\n",
              "      <th>14</th>\n",
              "      <td>carter&amp;hall@jla.com</td>\n",
              "      <td>Invalid</td>\n",
              "    </tr>\n",
              "    <tr>\n",
              "      <th>15</th>\n",
              "      <td>b@jl.us</td>\n",
              "      <td>Invalid</td>\n",
              "    </tr>\n",
              "    <tr>\n",
              "      <th>16</th>\n",
              "      <td>firestorm_equals_engineer_ronald_raymond_plus_doctor_martin_stein@justiceleagueofamerica.com</td>\n",
              "      <td>Invalid</td>\n",
              "    </tr>\n",
              "  </tbody>\n",
              "</table>\n",
              "</div>"
            ],
            "text/plain": [
              "                                                                                           Email   Result\n",
              "0                                                                             brucewayne@jla.com    Valid\n",
              "1                                                                             clark_kent@jla.com    Valid\n",
              "2                                                                             _jonnjonzz@jla.com  Invalid\n",
              "3                                                                      batman@jla.lead-mem.co.us    Valid\n",
              "4                                                                            dianaprince@jla.com    Valid\n",
              "5                                                                            victorstone@jla.c0m    Valid\n",
              "6                                                                              billybatson@j.com  Invalid\n",
              "7                                                                               barryallen@jla.c  Invalid\n",
              "8                                                                       arthurcurry@atlantis.com    Valid\n",
              "9                                                                      johnconstantine@jla.c#.us  Invalid\n",
              "10                                                                         zatannazatara@j1a.com  Invalid\n",
              "11                                                                            haljordan.@jla.com  Invalid\n",
              "12                                                                            oliverqueen@jlacom  Invalid\n",
              "13                                                                             ray_palmer@jla@us  Invalid\n",
              "14                                                                           carter&hall@jla.com  Invalid\n",
              "15                                                                                       b@jl.us  Invalid\n",
              "16  firestorm_equals_engineer_ronald_raymond_plus_doctor_martin_stein@justiceleagueofamerica.com  Invalid"
            ]
          },
          "metadata": {
            "tags": []
          },
          "execution_count": 1
        }
      ]
    }
  ]
}