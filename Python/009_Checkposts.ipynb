{
  "nbformat": 4,
  "nbformat_minor": 0,
  "metadata": {
    "colab": {
      "name": "009_Checkposts.ipynb",
      "provenance": [],
      "collapsed_sections": []
    },
    "kernelspec": {
      "display_name": "Python 3",
      "language": "python",
      "name": "python3"
    },
    "language_info": {
      "codemirror_mode": {
        "name": "ipython",
        "version": 3
      },
      "file_extension": ".py",
      "mimetype": "text/x-python",
      "name": "python",
      "nbconvert_exporter": "python",
      "pygments_lexer": "ipython3",
      "version": "3.8.5"
    }
  },
  "cells": [
    {
      "cell_type": "markdown",
      "metadata": {
        "id": "wp79lbT0jOEJ"
      },
      "source": [
        "### Problem Statement"
      ]
    },
    {
      "cell_type": "markdown",
      "metadata": {
        "id": "qiYZefvVryHD"
      },
      "source": [
        "There are N checkposts. All of those checkposts need to be watched by policemen of awareness K. There are two types of checkposts - Type 0 and Type 1. \n",
        "\n",
        "If a policeman is placed at checkpost X, he can cover checkposts in the range max(1, X-K) to min(N, X + K). A policeman placed at Type 0 checkpost can only watch his checkpost. \n",
        "\n",
        "The cost of placing the policeman at a checkpost I is I. Find the minimum cost of placing the policemen.\n",
        "\n",
        "Input Format:\n",
        "\n",
        "N = 5\\\n",
        "K = 2\\\n",
        "Types of checkposts : [0, 1, 0, 1, 0, 0, 0]\n"
      ]
    }
  ]
}