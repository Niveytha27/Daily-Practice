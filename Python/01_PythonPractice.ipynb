{
  "nbformat": 4,
  "nbformat_minor": 0,
  "metadata": {
    "colab": {
      "name": "01_PythonPractice.ipynb",
      "provenance": [],
      "collapsed_sections": []
    },
    "kernelspec": {
      "name": "python3",
      "display_name": "Python 3"
    },
    "language_info": {
      "name": "python"
    }
  },
  "cells": [
    {
      "cell_type": "markdown",
      "metadata": {
        "id": "gvDHk6Kzquma"
      },
      "source": [
        "# 01 : Email Validation"
      ]
    },
    {
      "cell_type": "markdown",
      "metadata": {
        "id": "5FQ0aKxqq0sG"
      },
      "source": [
        "Rules for validation:\n",
        "01. There should be only one @ symbol. \n",
        "02. There should be at least one period.\n",
        "03. Special characters should not come in succession.\n",
        "04. User name must not have any special characters except period and underscore.\n",
        "05. Username must not start or end with a special character.\n",
        "06. Email must not start or end with a special character.\n",
        "07. Domain name and Domain extension should be at least two characters long.\n",
        "08. Domain name should be alphabetic.\n",
        "09. Domain extension can have only period and hyphen as special characters.\n",
        "10. Maximum length of the email should be 50 and minimum length should be 8.\n",
        "11. Username must have at least one alphabetic character.\n",
        "12. There should not be any characters other than a-z, A-Z, 0-9 and [@ . _ -] in the email address.\n",
        "13. There should not be any whitespace characters in the email address."
      ]
    },
    {
      "cell_type": "code",
      "metadata": {
        "id": "YTYDL-MTrKYf"
      },
      "source": [
        "import re\n",
        "\n",
        "def evaluate_email(email):\n",
        "#    Complete this function\n",
        "#    return 'Valid' or 'Invalid'\n",
        "  result = ''\n",
        "  pattern = re.compile(r\"((^[a-zA-Z0-9]+)([\\._]{1}|[a-zA-Z0-9]+)[a-zA-Z0-9]+[@]{1}([a-zA-Z]{2,}\\.[a-zA-Z0-9\\.-]{2,}))\")\n",
        "  if re.fullmatch(pattern, email) and len(email) in range(8,51):\n",
        "    result = 'Valid'\n",
        "  else:\n",
        "    result = 'Invalid'\n",
        "  return result"
      ],
      "execution_count": 2,
      "outputs": []
    },
    {
      "cell_type": "code",
      "metadata": {
        "id": "pEfFdVnirNjG",
        "colab": {
          "base_uri": "https://localhost:8080/"
        },
        "outputId": "0aa21b7d-697c-45d3-cfc8-bc0168f6adc1"
      },
      "source": [
        "email_list = ['brucewayne@jla.com', 'clark_kent@jla.com', '_jonnjonzz@jla.com', 'batman@jla.lead-mem.co.us', 'dianaprince@jla.com', 'victorstone@jla.c0m', 'billybatson@j.com', 'barryallen@jla.c', 'arthurcurry@atlantis.com', 'johnconstantine@jla.c#.us', 'zatannazatara@j1a.com', 'haljordan.@jla.com', 'oliverqueen@jlacom', 'ray_palmer@jla@us', 'carter&hall@jla.com', 'b@jl.us',  'firestorm_equals_engineer_ronald_raymond_plus_doctor_martin_stein@justiceleagueofamerica.com']\n",
        "print('Email' + ' ' * 95 + 'Result')\n",
        "for email in email_list:\n",
        "    result = evaluate_email(email)\n",
        "    print(f\"{email:100s}{result}\")"
      ],
      "execution_count": 3,
      "outputs": [
        {
          "output_type": "stream",
          "text": [
            "Email                                                                                               Result\n",
            "brucewayne@jla.com                                                                                  Valid\n",
            "clark_kent@jla.com                                                                                  Valid\n",
            "_jonnjonzz@jla.com                                                                                  Invalid\n",
            "batman@jla.lead-mem.co.us                                                                           Valid\n",
            "dianaprince@jla.com                                                                                 Valid\n",
            "victorstone@jla.c0m                                                                                 Valid\n",
            "billybatson@j.com                                                                                   Invalid\n",
            "barryallen@jla.c                                                                                    Invalid\n",
            "arthurcurry@atlantis.com                                                                            Valid\n",
            "johnconstantine@jla.c#.us                                                                           Invalid\n",
            "zatannazatara@j1a.com                                                                               Invalid\n",
            "haljordan.@jla.com                                                                                  Invalid\n",
            "oliverqueen@jlacom                                                                                  Invalid\n",
            "ray_palmer@jla@us                                                                                   Invalid\n",
            "carter&hall@jla.com                                                                                 Invalid\n",
            "b@jl.us                                                                                             Invalid\n",
            "firestorm_equals_engineer_ronald_raymond_plus_doctor_martin_stein@justiceleagueofamerica.com        Invalid\n"
          ],
          "name": "stdout"
        }
      ]
    }
  ]
}