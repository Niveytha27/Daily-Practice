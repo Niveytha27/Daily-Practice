{
  "nbformat": 4,
  "nbformat_minor": 0,
  "metadata": {
    "colab": {
      "name": "01_PythonPractice.ipynb",
      "provenance": [],
      "collapsed_sections": []
    },
    "kernelspec": {
      "name": "python3",
      "display_name": "Python 3"
    },
    "language_info": {
      "name": "python"
    }
  },
  "cells": [
    {
      "cell_type": "markdown",
      "metadata": {
        "id": "gvDHk6Kzquma"
      },
      "source": [
        "# 01 : Email Validation"
      ]
    },
    {
      "cell_type": "markdown",
      "metadata": {
        "id": "5FQ0aKxqq0sG"
      },
      "source": [
        "Rules for validation:\n",
        "01. There should be only one @ symbol. \n",
        "02. There should be at least one period.\n",
        "03. Special characters should not come in succession.\n",
        "04. User name must not have any special characters except period and underscore.\n",
        "05. Username must not start or end with a special character.\n",
        "06. Email must not start or end with a special character.\n",
        "07. Domain name and Domain extension should be at least two characters long.\n",
        "08. Domain name should be alphabetic.\n",
        "09. Domain extension can have only period and hyphen as special characters.\n",
        "10. Maximum length of the email should be 50 and minimum length should be 8.\n",
        "11. Username must have at least one alphabetic character.\n",
        "12. There should not be any characters other than a-z, A-Z, 0-9 and [@ . _ -] in the email address.\n",
        "13. There should not be any whitespace characters in the email address."
      ]
    },
    {
      "cell_type": "code",
      "metadata": {
        "id": "YTYDL-MTrKYf"
      },
      "source": [
        "def evaluate_email(email):\n",
        "#    Complete this function\n",
        "#    return 'Valid' or 'Invalid'"
      ],
      "execution_count": 1,
      "outputs": []
    },
    {
      "cell_type": "code",
      "metadata": {
        "id": "pEfFdVnirNjG"
      },
      "source": [
        "email_list = ['brucewayne@jla.com', 'clark_kent@jla.com', '_jonnjonzz@jla.com', 'batman@jla.lead-mem.co.us', 'dianaprince@jla.com', 'victorstone@jla.c0m', 'billybatson@j.com', 'barryallen@jla.c', 'arthurcurry@atlantis.com', 'johnconstantine@jla.c#.us', 'zatannazatara@j1a.com', 'haljordan.@jla.com', 'oliverqueen@jlacom', 'ray_palmer@jla@us', 'carter&hall@jla.com', 'b@jl.us',  'firestorm_equals_engineer_ronald_raymond_plus_doctor_martin_stein@justiceleagueofamerica.com']\n",
        "print('Email' + ' ' * 95 + 'Result')\n",
        "for email in email_list:\n",
        "    result = evaluate_email(email)\n",
        "    print(f\"{email:100s}{result}\")"
      ],
      "execution_count": null,
      "outputs": []
    }
  ]
}