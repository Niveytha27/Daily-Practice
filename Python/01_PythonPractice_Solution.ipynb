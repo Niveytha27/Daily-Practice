{
  "nbformat": 4,
  "nbformat_minor": 0,
  "metadata": {
    "colab": {
      "name": "Python 01.ipynb",
      "provenance": [],
      "collapsed_sections": []
    },
    "kernelspec": {
      "name": "python3",
      "display_name": "Python 3"
    },
    "language_info": {
      "name": "python"
    }
  },
  "cells": [
    {
      "cell_type": "code",
      "metadata": {
        "id": "JmU1uMR8Ma8L",
        "colab": {
          "base_uri": "https://localhost:8080/"
        },
        "outputId": "e9f7575c-edb2-4316-ae80-fa36c0518d32"
      },
      "source": [
        "import re\n",
        "\n",
        "def evaluate_email(email):\n",
        "#    Complete this function\n",
        "  result = ''\n",
        "  pattern = re.compile(r\"((^[a-zA-Z0-9]+)([\\._]{1}|[a-zA-Z0-9]+)[a-zA-Z0-9]+[@]{1}([a-zA-Z]{2,}\\.[a-zA-Z0-9\\.-]{2,}))\")\n",
        "  if re.fullmatch(pattern, email) and len(email) in range(8,51):\n",
        "    result = 'Valid'\n",
        "  else:\n",
        "    result = 'Invalid'\n",
        "  \n",
        "#    return 'Valid' or 'Invalid'\n",
        "  return result\n",
        "\n",
        "email_list = ['brucewayne@jla.com', 'clark_kent@jla.com', '_jonnjonzz@jla.com', 'batman@jla.lead-mem.co.us', 'dianaprince@jla.com', 'victorstone@jla.c0m', 'billybatson@j.com', 'barryallen@jla.c', 'arthurcurry@atlantis.com', 'johnconstantine@jla.c#.us', 'zatannazatara@j1a.com', 'haljordan.@jla.com', 'oliverqueen@jlacom', 'ray_palmer@jla@us', 'carter&hall@jla.com', 'b@jl.us',  'firestorm_equals_engineer_ronald_raymond_plus_doctor_martin_stein@justiceleagueofamerica.com']\n",
        "print('Email' + ' ' * 95 + 'Result')\n",
        "for email in email_list:\n",
        "    result = evaluate_email(email)\n",
        "    print(f\"{email:100s}{result}\")"
      ],
      "execution_count": 2,
      "outputs": [
        {
          "output_type": "stream",
          "text": [
            "Email                                                                                               Result\n",
            "brucewayne@jla.com                                                                                  Valid\n",
            "clark_kent@jla.com                                                                                  Valid\n",
            "_jonnjonzz@jla.com                                                                                  Invalid\n",
            "batman@jla.lead-mem.co.us                                                                           Valid\n",
            "dianaprince@jla.com                                                                                 Valid\n",
            "victorstone@jla.c0m                                                                                 Valid\n",
            "billybatson@j.com                                                                                   Invalid\n",
            "barryallen@jla.c                                                                                    Invalid\n",
            "arthurcurry@atlantis.com                                                                            Valid\n",
            "johnconstantine@jla.c#.us                                                                           Invalid\n",
            "zatannazatara@j1a.com                                                                               Invalid\n",
            "haljordan.@jla.com                                                                                  Invalid\n",
            "oliverqueen@jlacom                                                                                  Invalid\n",
            "ray_palmer@jla@us                                                                                   Invalid\n",
            "carter&hall@jla.com                                                                                 Invalid\n",
            "b@jl.us                                                                                             Invalid\n",
            "firestorm_equals_engineer_ronald_raymond_plus_doctor_martin_stein@justiceleagueofamerica.com        Invalid\n"
          ],
          "name": "stdout"
        }
      ]
    },
    {
      "cell_type": "code",
      "metadata": {
        "id": "zxmhIIhh-L1y"
      },
      "source": [
        "\n"
      ],
      "execution_count": null,
      "outputs": []
    }
  ]
}