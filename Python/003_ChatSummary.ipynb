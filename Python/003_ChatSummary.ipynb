{
  "nbformat": 4,
  "nbformat_minor": 0,
  "metadata": {
    "colab": {
      "name": "003_ChatSummary.ipynb",
      "provenance": [],
      "collapsed_sections": []
    },
    "kernelspec": {
      "name": "python3",
      "display_name": "Python 3"
    },
    "language_info": {
      "name": "python"
    }
  },
  "cells": [
    {
      "cell_type": "markdown",
      "metadata": {
        "id": "B1JHK3_aw7FY"
      },
      "source": [
        "###Problem Statement"
      ]
    },
    {
      "cell_type": "markdown",
      "metadata": {
        "id": "ZuF-_t_MvUjW"
      },
      "source": [
        "Generate Chat Summary for the conversations\n",
        "1. CollectionNumber\n",
        "2. ConversationNumber\n",
        "3. ChatStarter\n",
        "4. ChatCloser\n",
        "5. ChatStartTime\n",
        "6. ChatEndTime\n",
        "7. ChatDuration(seconds)\n",
        "\n",
        "The printed output fields should be aligned properly."
      ]
    },
    {
      "cell_type": "markdown",
      "metadata": {
        "id": "-UgFGwWEzkSy"
      },
      "source": [
        "### Data"
      ]
    },
    {
      "cell_type": "code",
      "metadata": {
        "id": "7PbMF3s5zmJM"
      },
      "source": [
        "chat_data = \"\"\"**********************************************************\n",
        " Collection Number: 4092170 | Conversation Number: 1\n",
        "USER (2016-04-12 15:10:35+00:00) :xxx xxx\n",
        "EXPERT (2016-04-12 15:10:50+00:00) :xxx xxx\n",
        "\n",
        "\n",
        "**********************************************************\n",
        " Collection Number: 4025846 | Conversation Number: 10\n",
        "USER (2016-04-12 17:48:35+00:00) :xxx xxx\n",
        "EXPERT (2016-04-12 17:48:51+00:00) :xxx xxx\n",
        "USER (2016-04-12 17:48:57+00:00) :xxx xxx\n",
        "EXPERT (2016-04-12 17:49:21+00:00) :xxx xxx\n",
        "EXPERT (2016-04-12 17:49:32+00:00) :xxx xxx\n",
        "\n",
        "\n",
        "**********************************************************\n",
        " Collection Number: 3668096 | Conversation Number: 19\n",
        "USER (2016-04-12 06:44:36+00:00) :xxx xxx\n",
        "EXPERT (2016-04-12 06:44:52+00:00) :xxx xxx\n",
        "USER (2016-04-12 06:45:17+00:00) :xxx xxx\n",
        "EXPERT (2016-04-12 06:45:44+00:00) :xxx xxx\n",
        "EXPERT (2016-04-12 06:45:55+00:00) :xxx xxx\n",
        "\n",
        "\n",
        "**********************************************************\n",
        " Collection Number: 4076746 | Conversation Number: 2\n",
        "USER (2016-04-12 08:08:17+00:00) :xxx xxx\n",
        "EXPERT (2016-04-12 08:08:33+00:00) :xxx xxx\n",
        "USER (2016-04-12 08:08:38+00:00) :xxx xxx\n",
        "USER (2016-04-12 08:09:14+00:00) :xxx xxx\n",
        "EXPERT (2016-04-12 08:10:05+00:00) :xxx xxx\n",
        "USER (2016-04-12 08:12:29+00:00) :xxx xxx\n",
        "xxx xxx\n",
        "xxx xxx\n",
        "xxx xxx\n",
        "EXPERT (2016-04-12 08:13:38+00:00) :xxx xxx\n",
        "EXPERT (2016-04-12 08:17:14+00:00) :xxx xxx\n",
        "\n",
        "\n",
        "**********************************************************\n",
        " Collection Number: 3191430 | Conversation Number: 24\n",
        "USER (2016-04-12 14:27:26+00:00) :xxx xxx\n",
        "EXPERT (2016-04-12 14:27:42+00:00) :xxx xxx\n",
        "USER (2016-04-12 14:27:54+00:00) :xxx xxx\n",
        "USER (2016-04-12 14:29:54+00:00) :xxx xxx\n",
        "USER (2016-04-12 14:31:41+00:00) :xxx xxx\n",
        "USER (2016-04-12 14:33:04+00:00) :xxx xxx\n",
        "EXPERT (2016-04-12 14:34:41+00:00) :xxx xxx\n",
        "EXPERT (2016-04-12 14:39:20+00:00) :xxx xxx\n",
        "\n",
        "\n",
        "**********************************************************\n",
        " Collection Number: 4085579 | Conversation Number: 2\n",
        "USER (2016-04-12 02:05:36+00:00) :xxx xxx\n",
        "USER (2016-04-12 02:05:42+00:00) :xxx xxx\n",
        "EXPERT (2016-04-12 02:06:00+00:00) :xxx xxx\n",
        "EXPERT (2016-04-12 02:06:09+00:00) :xxx xxx\n",
        "xxx xxx\n",
        "xxx xxx\n",
        "\n",
        "\n",
        "**********************************************************\n",
        " Collection Number: 4091780 | Conversation Number: 2\n",
        "USER (2016-04-12 14:42:01+00:00) :xxx xxx\n",
        "EXPERT (2016-04-12 14:42:19+00:00) :xxx xxx\n",
        "USER (2016-04-12 14:42:45+00:00) :xxx xxx\n",
        "USER (2016-04-12 14:42:46+00:00) :xxx xxx\n",
        "USER (2016-04-12 14:43:36+00:00) :xxx xxx\n",
        "EXPERT (2016-04-12 14:44:56+00:00) :xxx xxx\n",
        "USER (2016-04-12 14:45:28+00:00) :xxx xxx\n",
        "USER (2016-04-12 14:45:46+00:00) :xxx xxx\n",
        "USER (2016-04-12 14:46:01+00:00) :xxx xxx\n",
        "USER (2016-04-12 14:46:09+00:00) :xxx xxx\n",
        "EXPERT (2016-04-12 14:53:03+00:00) :xxx xxx\n",
        "USER (2016-04-12 14:53:18+00:00) :xxx xxx\n",
        "USER (2016-04-12 14:53:30+00:00) :xxx xxx\n",
        "USER (2016-04-12 14:53:33+00:00) :xxx xxx\n",
        "USER (2016-04-12 14:53:35+00:00) :xxx xxx\n",
        "USER (2016-04-12 14:53:37+00:00) :xxx xxx\n",
        "USER (2016-04-12 14:53:41+00:00) :xxx xxx\n",
        "USER (2016-04-12 14:53:55+00:00) :xxx xxx\n",
        "USER (2016-04-12 14:53:57+00:00) :xxx xxx\n",
        "EXPERT (2016-04-12 14:54:44+00:00) :xxx xxx\n",
        "\n",
        "\n",
        "**********************************************************\n",
        " Collection Number: 4087275 | Conversation Number: 1\n",
        "USER (2016-04-12 05:24:30+00:00) :xxx xxx\n",
        "EXPERT (2016-04-12 05:24:47+00:00) :xxx xxx\n",
        "USER (2016-04-12 05:29:13+00:00) :xxx xxx\n",
        "EXPERT (2016-04-12 05:29:29+00:00) :xxx xxx\n",
        "USER (2016-04-12 05:32:08+00:00) :xxx xxx\n",
        "EXPERT (2016-04-12 05:32:30+00:00) :xxx xxx\n",
        "EXPERT (2016-04-12 05:32:39+00:00) :xxx xxx\n",
        "\"\"\""
      ],
      "execution_count": 1,
      "outputs": []
    },
    {
      "cell_type": "markdown",
      "metadata": {
        "id": "28lcYbUOw99j"
      },
      "source": [
        "###Code"
      ]
    },
    {
      "cell_type": "code",
      "metadata": {
        "colab": {
          "base_uri": "https://localhost:8080/"
        },
        "id": "wfzmnlAGvNMm",
        "outputId": "625e65f1-a0ff-46c8-86dd-7bd37ccb2667"
      },
      "source": [
        "# Imports\n",
        "import re\n",
        "from datetime import datetime\n",
        "\n",
        "\n",
        "# Core Logic\n",
        "def summarizer(chatdata):\n",
        "    sub_lst = []\n",
        "    main_lst = []\n",
        "    for idx, elem in enumerate(chatdata):\n",
        "        elem = str(chatdata[(idx + 1) % len(chatdata)])\n",
        "        if re.match(r\"^[*]+\", elem):\n",
        "            main_lst.append(sub_lst)\n",
        "            sub_lst = []\n",
        "        elif re.match(r\"([\\s\\w]+)|([\\w]+)\", elem):\n",
        "            sub_lst.append(elem)\n",
        "    print_values(main_lst)\n",
        "\n",
        "\n",
        "def print_values(main_lst):\n",
        "    print('Collection Number   |' + 'Conversation Number |' + 'Chat Starter        |' + 'Chat Closer         |' +\n",
        "          'Chat Start time     |' + 'Chat End time       |' + 'Chat Duration(secs) ')\n",
        "\n",
        "    chat_dict = {}\n",
        "    for sub_lst in main_lst:\n",
        "        chat_info = []\n",
        "        for item in sub_lst:\n",
        "            if re.search(\"Collec*\", item):\n",
        "                lst1 = re.split(r\"[:|\\n]\", item)\n",
        "\n",
        "                chat_dict[\"Collection Number\"] = int(lst1[1])\n",
        "                chat_dict[\"Conversation Number\"] = int(lst1[3])\n",
        "\n",
        "            if re.search('USER|EXPERT', item):\n",
        "                lst2 = re.split(r\"[(+)]\", item)\n",
        "                chat_info.append(lst2)\n",
        "\n",
        "        chat_dict[\"Chat Starter\"] = chat_info[0][0]\n",
        "        chat_dict[\"Chat Closer\"] = chat_info[-1][0]\n",
        "        chat_dict[\"Chat Start time\"] = chat_info[0][1]\n",
        "        chat_dict[\"Chat End time\"] = chat_info[-1][1]\n",
        "        fmt = '%Y-%m-%d %H:%M:%S'\n",
        "        d1 = datetime.strptime(chat_dict[\"Chat Start time\"], fmt)\n",
        "        d2 = datetime.strptime(chat_dict[\"Chat End time\"], fmt)\n",
        "        chat_dict[\"Chat Duration\"] = int((d2 - d1).total_seconds())\n",
        "        result = \"|\".join(f\"{value}\".ljust(20) for value in chat_dict.values())\n",
        "        print(result)\n",
        "\n",
        "\n",
        "# Driver\n",
        "chatdata = chat_data.split('\\n')\n",
        "summarizer(chatdata)"
      ],
      "execution_count": 2,
      "outputs": [
        {
          "output_type": "stream",
          "text": [
            "Collection Number   |Conversation Number |Chat Starter        |Chat Closer         |Chat Start time     |Chat End time       |Chat Duration(secs) \n",
            "4092170             |1                   |USER                |EXPERT              |2016-04-12 15:10:35 |2016-04-12 15:10:50 |15                  \n",
            "4025846             |10                  |USER                |EXPERT              |2016-04-12 17:48:35 |2016-04-12 17:49:32 |57                  \n",
            "3668096             |19                  |USER                |EXPERT              |2016-04-12 06:44:36 |2016-04-12 06:45:55 |79                  \n",
            "4076746             |2                   |USER                |EXPERT              |2016-04-12 08:08:17 |2016-04-12 08:17:14 |537                 \n",
            "3191430             |24                  |USER                |EXPERT              |2016-04-12 14:27:26 |2016-04-12 14:39:20 |714                 \n",
            "4085579             |2                   |USER                |EXPERT              |2016-04-12 02:05:36 |2016-04-12 02:06:09 |33                  \n",
            "4091780             |2                   |USER                |EXPERT              |2016-04-12 14:42:01 |2016-04-12 14:54:44 |763                 \n",
            "4087275             |1                   |USER                |EXPERT              |2016-04-12 05:24:30 |2016-04-12 05:32:39 |489                 \n"
          ],
          "name": "stdout"
        }
      ]
    }
  ]
}